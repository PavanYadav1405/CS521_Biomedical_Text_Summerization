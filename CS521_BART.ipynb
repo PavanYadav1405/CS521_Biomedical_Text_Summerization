{
  "nbformat": 4,
  "nbformat_minor": 0,
  "metadata": {
    "colab": {
      "provenance": [],
      "gpuType": "T4"
    },
    "kernelspec": {
      "name": "python3",
      "display_name": "Python 3"
    },
    "language_info": {
      "name": "python"
    },
    "accelerator": "GPU",
    "widgets": {
      "application/vnd.jupyter.widget-state+json": {
        "9b20a526100f403dbcf9a7783c68ced1": {
          "model_module": "@jupyter-widgets/controls",
          "model_name": "HBoxModel",
          "model_module_version": "1.5.0",
          "state": {
            "_dom_classes": [],
            "_model_module": "@jupyter-widgets/controls",
            "_model_module_version": "1.5.0",
            "_model_name": "HBoxModel",
            "_view_count": null,
            "_view_module": "@jupyter-widgets/controls",
            "_view_module_version": "1.5.0",
            "_view_name": "HBoxView",
            "box_style": "",
            "children": [
              "IPY_MODEL_4620b6f08a614f2492ceabd31ff95f8f",
              "IPY_MODEL_127033c6095a4193bda005117d1b5aba",
              "IPY_MODEL_53f6326f59b4432386226a4a10ef72df"
            ],
            "layout": "IPY_MODEL_1e8d679a78b646c3a7f77492cbca8c57"
          }
        },
        "4620b6f08a614f2492ceabd31ff95f8f": {
          "model_module": "@jupyter-widgets/controls",
          "model_name": "HTMLModel",
          "model_module_version": "1.5.0",
          "state": {
            "_dom_classes": [],
            "_model_module": "@jupyter-widgets/controls",
            "_model_module_version": "1.5.0",
            "_model_name": "HTMLModel",
            "_view_count": null,
            "_view_module": "@jupyter-widgets/controls",
            "_view_module_version": "1.5.0",
            "_view_name": "HTMLView",
            "description": "",
            "description_tooltip": null,
            "layout": "IPY_MODEL_e47a88c62c604f1d9def0004931564de",
            "placeholder": "​",
            "style": "IPY_MODEL_f849e20e10fe4dfaa5a01443a68c11f0",
            "value": "Map: 100%"
          }
        },
        "127033c6095a4193bda005117d1b5aba": {
          "model_module": "@jupyter-widgets/controls",
          "model_name": "FloatProgressModel",
          "model_module_version": "1.5.0",
          "state": {
            "_dom_classes": [],
            "_model_module": "@jupyter-widgets/controls",
            "_model_module_version": "1.5.0",
            "_model_name": "FloatProgressModel",
            "_view_count": null,
            "_view_module": "@jupyter-widgets/controls",
            "_view_module_version": "1.5.0",
            "_view_name": "ProgressView",
            "bar_style": "success",
            "description": "",
            "description_tooltip": null,
            "layout": "IPY_MODEL_96732c89966a498d83e197ec2ef012c7",
            "max": 1000,
            "min": 0,
            "orientation": "horizontal",
            "style": "IPY_MODEL_45288b1547b84650a772af0bfa9f2ad0",
            "value": 1000
          }
        },
        "53f6326f59b4432386226a4a10ef72df": {
          "model_module": "@jupyter-widgets/controls",
          "model_name": "HTMLModel",
          "model_module_version": "1.5.0",
          "state": {
            "_dom_classes": [],
            "_model_module": "@jupyter-widgets/controls",
            "_model_module_version": "1.5.0",
            "_model_name": "HTMLModel",
            "_view_count": null,
            "_view_module": "@jupyter-widgets/controls",
            "_view_module_version": "1.5.0",
            "_view_name": "HTMLView",
            "description": "",
            "description_tooltip": null,
            "layout": "IPY_MODEL_1aedb833b68942f2b7e0403848ccd2e6",
            "placeholder": "​",
            "style": "IPY_MODEL_5827bbc3874444cc9a6362a142242aa8",
            "value": " 1000/1000 [00:02&lt;00:00, 435.46 examples/s]"
          }
        },
        "1e8d679a78b646c3a7f77492cbca8c57": {
          "model_module": "@jupyter-widgets/base",
          "model_name": "LayoutModel",
          "model_module_version": "1.2.0",
          "state": {
            "_model_module": "@jupyter-widgets/base",
            "_model_module_version": "1.2.0",
            "_model_name": "LayoutModel",
            "_view_count": null,
            "_view_module": "@jupyter-widgets/base",
            "_view_module_version": "1.2.0",
            "_view_name": "LayoutView",
            "align_content": null,
            "align_items": null,
            "align_self": null,
            "border": null,
            "bottom": null,
            "display": null,
            "flex": null,
            "flex_flow": null,
            "grid_area": null,
            "grid_auto_columns": null,
            "grid_auto_flow": null,
            "grid_auto_rows": null,
            "grid_column": null,
            "grid_gap": null,
            "grid_row": null,
            "grid_template_areas": null,
            "grid_template_columns": null,
            "grid_template_rows": null,
            "height": null,
            "justify_content": null,
            "justify_items": null,
            "left": null,
            "margin": null,
            "max_height": null,
            "max_width": null,
            "min_height": null,
            "min_width": null,
            "object_fit": null,
            "object_position": null,
            "order": null,
            "overflow": null,
            "overflow_x": null,
            "overflow_y": null,
            "padding": null,
            "right": null,
            "top": null,
            "visibility": null,
            "width": null
          }
        },
        "e47a88c62c604f1d9def0004931564de": {
          "model_module": "@jupyter-widgets/base",
          "model_name": "LayoutModel",
          "model_module_version": "1.2.0",
          "state": {
            "_model_module": "@jupyter-widgets/base",
            "_model_module_version": "1.2.0",
            "_model_name": "LayoutModel",
            "_view_count": null,
            "_view_module": "@jupyter-widgets/base",
            "_view_module_version": "1.2.0",
            "_view_name": "LayoutView",
            "align_content": null,
            "align_items": null,
            "align_self": null,
            "border": null,
            "bottom": null,
            "display": null,
            "flex": null,
            "flex_flow": null,
            "grid_area": null,
            "grid_auto_columns": null,
            "grid_auto_flow": null,
            "grid_auto_rows": null,
            "grid_column": null,
            "grid_gap": null,
            "grid_row": null,
            "grid_template_areas": null,
            "grid_template_columns": null,
            "grid_template_rows": null,
            "height": null,
            "justify_content": null,
            "justify_items": null,
            "left": null,
            "margin": null,
            "max_height": null,
            "max_width": null,
            "min_height": null,
            "min_width": null,
            "object_fit": null,
            "object_position": null,
            "order": null,
            "overflow": null,
            "overflow_x": null,
            "overflow_y": null,
            "padding": null,
            "right": null,
            "top": null,
            "visibility": null,
            "width": null
          }
        },
        "f849e20e10fe4dfaa5a01443a68c11f0": {
          "model_module": "@jupyter-widgets/controls",
          "model_name": "DescriptionStyleModel",
          "model_module_version": "1.5.0",
          "state": {
            "_model_module": "@jupyter-widgets/controls",
            "_model_module_version": "1.5.0",
            "_model_name": "DescriptionStyleModel",
            "_view_count": null,
            "_view_module": "@jupyter-widgets/base",
            "_view_module_version": "1.2.0",
            "_view_name": "StyleView",
            "description_width": ""
          }
        },
        "96732c89966a498d83e197ec2ef012c7": {
          "model_module": "@jupyter-widgets/base",
          "model_name": "LayoutModel",
          "model_module_version": "1.2.0",
          "state": {
            "_model_module": "@jupyter-widgets/base",
            "_model_module_version": "1.2.0",
            "_model_name": "LayoutModel",
            "_view_count": null,
            "_view_module": "@jupyter-widgets/base",
            "_view_module_version": "1.2.0",
            "_view_name": "LayoutView",
            "align_content": null,
            "align_items": null,
            "align_self": null,
            "border": null,
            "bottom": null,
            "display": null,
            "flex": null,
            "flex_flow": null,
            "grid_area": null,
            "grid_auto_columns": null,
            "grid_auto_flow": null,
            "grid_auto_rows": null,
            "grid_column": null,
            "grid_gap": null,
            "grid_row": null,
            "grid_template_areas": null,
            "grid_template_columns": null,
            "grid_template_rows": null,
            "height": null,
            "justify_content": null,
            "justify_items": null,
            "left": null,
            "margin": null,
            "max_height": null,
            "max_width": null,
            "min_height": null,
            "min_width": null,
            "object_fit": null,
            "object_position": null,
            "order": null,
            "overflow": null,
            "overflow_x": null,
            "overflow_y": null,
            "padding": null,
            "right": null,
            "top": null,
            "visibility": null,
            "width": null
          }
        },
        "45288b1547b84650a772af0bfa9f2ad0": {
          "model_module": "@jupyter-widgets/controls",
          "model_name": "ProgressStyleModel",
          "model_module_version": "1.5.0",
          "state": {
            "_model_module": "@jupyter-widgets/controls",
            "_model_module_version": "1.5.0",
            "_model_name": "ProgressStyleModel",
            "_view_count": null,
            "_view_module": "@jupyter-widgets/base",
            "_view_module_version": "1.2.0",
            "_view_name": "StyleView",
            "bar_color": null,
            "description_width": ""
          }
        },
        "1aedb833b68942f2b7e0403848ccd2e6": {
          "model_module": "@jupyter-widgets/base",
          "model_name": "LayoutModel",
          "model_module_version": "1.2.0",
          "state": {
            "_model_module": "@jupyter-widgets/base",
            "_model_module_version": "1.2.0",
            "_model_name": "LayoutModel",
            "_view_count": null,
            "_view_module": "@jupyter-widgets/base",
            "_view_module_version": "1.2.0",
            "_view_name": "LayoutView",
            "align_content": null,
            "align_items": null,
            "align_self": null,
            "border": null,
            "bottom": null,
            "display": null,
            "flex": null,
            "flex_flow": null,
            "grid_area": null,
            "grid_auto_columns": null,
            "grid_auto_flow": null,
            "grid_auto_rows": null,
            "grid_column": null,
            "grid_gap": null,
            "grid_row": null,
            "grid_template_areas": null,
            "grid_template_columns": null,
            "grid_template_rows": null,
            "height": null,
            "justify_content": null,
            "justify_items": null,
            "left": null,
            "margin": null,
            "max_height": null,
            "max_width": null,
            "min_height": null,
            "min_width": null,
            "object_fit": null,
            "object_position": null,
            "order": null,
            "overflow": null,
            "overflow_x": null,
            "overflow_y": null,
            "padding": null,
            "right": null,
            "top": null,
            "visibility": null,
            "width": null
          }
        },
        "5827bbc3874444cc9a6362a142242aa8": {
          "model_module": "@jupyter-widgets/controls",
          "model_name": "DescriptionStyleModel",
          "model_module_version": "1.5.0",
          "state": {
            "_model_module": "@jupyter-widgets/controls",
            "_model_module_version": "1.5.0",
            "_model_name": "DescriptionStyleModel",
            "_view_count": null,
            "_view_module": "@jupyter-widgets/base",
            "_view_module_version": "1.2.0",
            "_view_name": "StyleView",
            "description_width": ""
          }
        }
      }
    }
  },
  "cells": [
    {
      "cell_type": "code",
      "execution_count": 1,
      "metadata": {
        "id": "xhnXwCwKOmBA"
      },
      "outputs": [],
      "source": [
        "#pip install torch\n",
        "#pip install bert-extractive-summarizer\n",
        "\n",
        "# !pip install transformers\n",
        "# !pip install datasets\n",
        "# !pip install -U accelerate\n",
        "# !pip install -U bertviz\n",
        "# !pip install -U umap-learn\n",
        "# !pip install -U sentencepiece"
      ]
    },
    {
      "cell_type": "code",
      "execution_count": 2,
      "metadata": {
        "id": "fnIy_ZUVl54_"
      },
      "outputs": [],
      "source": [
        "# !git clone https://github.com/vgupta123/sumpubmed.git"
      ]
    },
    {
      "cell_type": "code",
      "execution_count": 3,
      "metadata": {
        "id": "czXuAhjymzJi"
      },
      "outputs": [],
      "source": [
        "import os\n",
        "from datasets import Dataset\n",
        "import torch\n",
        "import pandas as pd\n",
        "import re\n",
        "from transformers import pipeline\n",
        "from transformers import AutoModelForSeq2SeqLM, AutoTokenizer\n",
        "from transformers import GPT2Tokenizer, GPT2LMHeadModel, GPT2Config\n",
        "from transformers import TextDataset, DataCollatorForLanguageModeling\n",
        "from transformers import Trainer, TrainingArguments"
      ]
    },
    {
      "cell_type": "code",
      "execution_count": 4,
      "metadata": {
        "id": "om3Kx8Kfoqvv"
      },
      "outputs": [],
      "source": [
        "def load_text_files(directory):\n",
        "    files = os.listdir(directory)\n",
        "    files = [file for file in files if not file.startswith('.DS')]\n",
        "    files = sorted(files, key=lambda x: int(re.split('\\.|_', x)[1]))\n",
        "    print(len(files))\n",
        "    data = []\n",
        "    for file in files:\n",
        "        if file.endswith('.txt'):\n",
        "            with open(os.path.join(directory, file), 'r', encoding='utf-8',errors='ignore') as f:\n",
        "                text = f.read()\n",
        "                data.append(text)\n",
        "    return data\n"
      ]
    },
    {
      "cell_type": "code",
      "source": [
        "#print(re.split('\\.|_', 'text_1010.txt'))"
      ],
      "metadata": {
        "id": "zlSN8LGJZ5HB"
      },
      "execution_count": 5,
      "outputs": []
    },
    {
      "cell_type": "code",
      "execution_count": 6,
      "metadata": {
        "colab": {
          "base_uri": "https://localhost:8080/"
        },
        "id": "3jSKIvOvBcel",
        "outputId": "3f319a72-1fa9-47f7-e135-5c0dc0bc175b"
      },
      "outputs": [
        {
          "output_type": "stream",
          "name": "stdout",
          "text": [
            "32689\n",
            "32689\n",
            "32689\n",
            "32689\n"
          ]
        }
      ],
      "source": [
        "# Load text files from directories\n",
        "original_text = load_text_files('/content/sumpubmed/abstract')\n",
        "summaries = load_text_files('/content/sumpubmed/shorter_abstract')\n",
        "# original_text = load_text_files('/content/sumpubmed/text')\n",
        "# summaries = load_text_files('/content/sumpubmed/abstract')\n",
        "print(len(original_text))\n",
        "print(len(summaries))\n",
        "\n",
        "# Create a dataset from the loaded text files\n",
        "data = {'original_text': original_text, 'summary': summaries}"
      ]
    },
    {
      "cell_type": "code",
      "execution_count": 7,
      "metadata": {
        "colab": {
          "base_uri": "https://localhost:8080/"
        },
        "id": "pbywV66hB3tM",
        "outputId": "1f217451-a39f-412a-d837-8378af215d09"
      },
      "outputs": [
        {
          "output_type": "stream",
          "name": "stdout",
          "text": [
            "(32689, 2)\n"
          ]
        }
      ],
      "source": [
        "# Create a dataset from the loaded text files\n",
        "df =pd.DataFrame({'original_text': original_text, 'summary': summaries})\n",
        "\n",
        "# dataset = Dataset.from_dict(data)\n",
        "\n",
        "print(df.shape)\n",
        "\n"
      ]
    },
    {
      "cell_type": "code",
      "execution_count": 8,
      "metadata": {
        "id": "O_3bxNj2CHDo"
      },
      "outputs": [],
      "source": [
        "# Load pre-trained model and tokenizer\n",
        "# model_name = \"gpt2\"  # or specify another GPT model suitable for text generation\n",
        "# model = GPT2LMHeadModel.from_pretrained(model_name)\n",
        "# tokenizer = GPT2Tokenizer.from_pretrained(model_name)\n",
        "\n",
        "device = 'gpu'\n",
        "model_ckpt = 'facebook/bart-large-cnn'\n",
        "tokenizer = AutoTokenizer.from_pretrained(model_ckpt)\n",
        "model = AutoModelForSeq2SeqLM.from_pretrained(model_ckpt)"
      ]
    },
    {
      "cell_type": "code",
      "execution_count": 9,
      "metadata": {
        "id": "V8_zV3I8CM4r"
      },
      "outputs": [],
      "source": [
        "# Tokenize the dataset\n",
        "# def tokenize_function(ds):\n",
        "#     return tokenizer(ds[\"original_text\"] + \" [SEP] \" + ds[\"summary\"])\n",
        "\n",
        "# tokenized_datasets = dataset.map(tokenize_function, batched=True)\n",
        "\n",
        "# Save the tokenized dataset to a text file\n",
        "# tokenized_datasets.save_to_disk(\"/content/\")"
      ]
    },
    {
      "cell_type": "code",
      "execution_count": 10,
      "metadata": {
        "id": "25__SbtmFZfs"
      },
      "outputs": [],
      "source": [
        "df['input_text'] = df[\"original_text\"].iloc[:1000] + \" TL;DR \" + df[\"summary\"].iloc[:1000]\n",
        "df[\"input_text\"].to_csv(\"/content/combined_text.txt\", index=False, header=False)"
      ]
    },
    {
      "cell_type": "code",
      "source": [
        "def get_feature(batch):\n",
        "  encodings = tokenizer(batch['original_text'], text_target=batch['summary'],\n",
        "                        max_length=1024, truncation=True)\n",
        "\n",
        "  encodings = {'input_ids': encodings['input_ids'],\n",
        "               'attention_mask': encodings['attention_mask'],\n",
        "               'labels': encodings['labels']}\n",
        "\n",
        "  return encodings"
      ],
      "metadata": {
        "id": "tPa7xI8se6tV"
      },
      "execution_count": 11,
      "outputs": []
    },
    {
      "cell_type": "code",
      "source": [
        "data = Dataset.from_pandas(df.iloc[:1000])"
      ],
      "metadata": {
        "id": "T7PrCVRbgdoZ"
      },
      "execution_count": 12,
      "outputs": []
    },
    {
      "cell_type": "code",
      "execution_count": 13,
      "metadata": {
        "id": "nAKbpSS9JBV9",
        "colab": {
          "base_uri": "https://localhost:8080/",
          "height": 49,
          "referenced_widgets": [
            "9b20a526100f403dbcf9a7783c68ced1",
            "4620b6f08a614f2492ceabd31ff95f8f",
            "127033c6095a4193bda005117d1b5aba",
            "53f6326f59b4432386226a4a10ef72df",
            "1e8d679a78b646c3a7f77492cbca8c57",
            "e47a88c62c604f1d9def0004931564de",
            "f849e20e10fe4dfaa5a01443a68c11f0",
            "96732c89966a498d83e197ec2ef012c7",
            "45288b1547b84650a772af0bfa9f2ad0",
            "1aedb833b68942f2b7e0403848ccd2e6",
            "5827bbc3874444cc9a6362a142242aa8"
          ]
        },
        "outputId": "3adc86b9-8155-4a03-c3a7-a53858822081"
      },
      "outputs": [
        {
          "output_type": "display_data",
          "data": {
            "text/plain": [
              "Map:   0%|          | 0/1000 [00:00<?, ? examples/s]"
            ],
            "application/vnd.jupyter.widget-view+json": {
              "version_major": 2,
              "version_minor": 0,
              "model_id": "9b20a526100f403dbcf9a7783c68ced1"
            }
          },
          "metadata": {}
        }
      ],
      "source": [
        "data_pt = data.map(get_feature, batched=True)"
      ]
    },
    {
      "cell_type": "code",
      "source": [
        "data_pt"
      ],
      "metadata": {
        "colab": {
          "base_uri": "https://localhost:8080/"
        },
        "id": "UPkDCKacmBLY",
        "outputId": "b4017ba1-4d3b-4f98-d706-40ce040d6ba6"
      },
      "execution_count": 14,
      "outputs": [
        {
          "output_type": "execute_result",
          "data": {
            "text/plain": [
              "Dataset({\n",
              "    features: ['original_text', 'summary', 'input_text', 'input_ids', 'attention_mask', 'labels'],\n",
              "    num_rows: 1000\n",
              "})"
            ]
          },
          "metadata": {},
          "execution_count": 14
        }
      ]
    },
    {
      "cell_type": "code",
      "source": [
        "columns = ['input_ids', 'labels', 'attention_mask']\n",
        "data_pt.set_format(type='torch', columns=columns)"
      ],
      "metadata": {
        "id": "ywQkc5RsmLQa"
      },
      "execution_count": 15,
      "outputs": []
    },
    {
      "cell_type": "code",
      "source": [
        "from transformers import DataCollatorForSeq2Seq\n",
        "data_collator = DataCollatorForSeq2Seq(tokenizer, model=model)"
      ],
      "metadata": {
        "id": "DIY8aoLkmOjA"
      },
      "execution_count": 16,
      "outputs": []
    },
    {
      "cell_type": "code",
      "execution_count": 17,
      "metadata": {
        "id": "uJVihfB_GQJR"
      },
      "outputs": [],
      "source": [
        "# # Load your dataset\n",
        "# train_file = \"/content/combined_text.txt\"\n",
        "# train_dataset = TextDataset(\n",
        "#     tokenizer=tokenizer,\n",
        "#     file_path=train_file,\n",
        "#     block_size=128,\n",
        "# )"
      ]
    },
    {
      "cell_type": "code",
      "execution_count": 18,
      "metadata": {
        "id": "TFQSPBEcIikN"
      },
      "outputs": [],
      "source": [
        "# data_collator = DataCollatorForLanguageModeling(\n",
        "#     tokenizer=tokenizer,\n",
        "#     mlm=False\n",
        "# )"
      ]
    },
    {
      "cell_type": "code",
      "execution_count": 20,
      "metadata": {
        "id": "jvAUXLHCIlBG"
      },
      "outputs": [],
      "source": [
        "# # Fine-tuning arguments\n",
        "# training_args = TrainingArguments(\n",
        "#     output_dir=\"/content/gpt2-finetuned-summarization\",\n",
        "#     overwrite_output_dir=True,\n",
        "#     num_train_epochs=1,\n",
        "#     per_device_train_batch_size=4,\n",
        "#     save_steps=10000,\n",
        "#     save_total_limit=2,\n",
        "# )\n",
        "\n",
        "training_args = TrainingArguments(\n",
        "    output_dir = '/content/CS532_bart',\n",
        "    overwrite_output_dir=True,\n",
        "    num_train_epochs=1,\n",
        "    warmup_steps = 500,\n",
        "    per_device_train_batch_size=2,\n",
        "    weight_decay = 0.01,\n",
        "    logging_steps = 100,\n",
        "    evaluation_strategy = 'steps',\n",
        "    eval_steps=1000,\n",
        "    save_steps=1e6,\n",
        "    gradient_accumulation_steps=8\n",
        "    # num_train_epochs=1,\n",
        "    # warmup_steps = 100,\n",
        "    # per_device_train_batch_size=4,\n",
        "    # weight_decay = 0.01,\n",
        "    # logging_steps = 10,\n",
        "    # evaluation_strategy = 'steps',\n",
        "    # eval_steps=500,\n",
        "    # save_steps=1e6,\n",
        "    # gradient_accumulation_steps=16\n",
        ")\n",
        "\n",
        "trainer = Trainer(model=model, args=training_args, tokenizer=tokenizer, data_collator=data_collator,\n",
        "                  train_dataset = data_pt)"
      ]
    },
    {
      "cell_type": "code",
      "source": [
        "trainer.train()"
      ],
      "metadata": {
        "colab": {
          "base_uri": "https://localhost:8080/",
          "height": 147
        },
        "id": "FbvHPjAlndcW",
        "outputId": "b2a930ef-ae59-4972-f4f9-3e188eeb49c8"
      },
      "execution_count": 21,
      "outputs": [
        {
          "output_type": "stream",
          "name": "stderr",
          "text": [
            "You're using a BartTokenizerFast tokenizer. Please note that with a fast tokenizer, using the `__call__` method is faster than using a method to encode the text followed by a call to the `pad` method to get a padded encoding.\n"
          ]
        },
        {
          "output_type": "display_data",
          "data": {
            "text/plain": [
              "<IPython.core.display.HTML object>"
            ],
            "text/html": [
              "\n",
              "    <div>\n",
              "      \n",
              "      <progress value='62' max='62' style='width:300px; height:20px; vertical-align: middle;'></progress>\n",
              "      [62/62 06:17, Epoch 0/1]\n",
              "    </div>\n",
              "    <table border=\"1\" class=\"dataframe\">\n",
              "  <thead>\n",
              " <tr style=\"text-align: left;\">\n",
              "      <th>Step</th>\n",
              "      <th>Training Loss</th>\n",
              "      <th>Validation Loss</th>\n",
              "    </tr>\n",
              "  </thead>\n",
              "  <tbody>\n",
              "  </tbody>\n",
              "</table><p>"
            ]
          },
          "metadata": {}
        },
        {
          "output_type": "execute_result",
          "data": {
            "text/plain": [
              "TrainOutput(global_step=62, training_loss=0.42466957338394656, metrics={'train_runtime': 384.9989, 'train_samples_per_second': 2.597, 'train_steps_per_second': 0.161, 'total_flos': 1000965299109888.0, 'train_loss': 0.42466957338394656, 'epoch': 0.99})"
            ]
          },
          "metadata": {},
          "execution_count": 21
        }
      ]
    },
    {
      "cell_type": "code",
      "execution_count": null,
      "metadata": {
        "id": "44mKxfInIwtb"
      },
      "outputs": [],
      "source": [
        "# Initialize Trainer\n",
        "# trainer = Trainer(\n",
        "#     model=model,\n",
        "#     args=training_args,\n",
        "#     data_collator=data_collator,\n",
        "#     train_dataset=train_dataset,\n",
        "# )"
      ]
    },
    {
      "cell_type": "code",
      "execution_count": 22,
      "metadata": {
        "colab": {
          "base_uri": "https://localhost:8080/"
        },
        "id": "raIj6sCDI0P0",
        "outputId": "9d647ed9-1d58-4fb9-da07-53e16a374ec4"
      },
      "outputs": [
        {
          "output_type": "execute_result",
          "data": {
            "text/plain": [
              "('/content/CS532_bart/tokenizer_config.json',\n",
              " '/content/CS532_bart/special_tokens_map.json',\n",
              " '/content/CS532_bart/vocab.json',\n",
              " '/content/CS532_bart/merges.txt',\n",
              " '/content/CS532_bart/added_tokens.json',\n",
              " '/content/CS532_bart/tokenizer.json')"
            ]
          },
          "metadata": {},
          "execution_count": 22
        }
      ],
      "source": [
        "# Fine-tune the model\n",
        "# trainer.train()\n",
        "\n",
        "# Save the fine-tuned model\n",
        "model.save_pretrained('/content/CS532_bart')\n",
        "tokenizer.save_pretrained('/content/CS532_bart')"
      ]
    },
    {
      "cell_type": "code",
      "source": [
        "trainer.save_model('CS532_bart_model')"
      ],
      "metadata": {
        "id": "KHRxYyWKuxAF"
      },
      "execution_count": 23,
      "outputs": []
    },
    {
      "cell_type": "code",
      "source": [
        "# Load the fine-tuned model and tokenizer\n",
        "model_path = '/content/CS532_bart'  # Replace with the actual path to your fine-tuned model\n",
        "# model = GPT2LMHeadModel.from_pretrained(model_path)\n",
        "# tokenizer = GPT2Tokenizer.from_pretrained(model_path)\n",
        "pipe = pipeline('summarization', model='CS532_bart_model')"
      ],
      "metadata": {
        "id": "41fLv63KK_Z8"
      },
      "execution_count": 24,
      "outputs": []
    },
    {
      "cell_type": "code",
      "source": [
        "input_text = df['original_text'][10000]\n",
        "print(pipe(input_text))"
      ],
      "metadata": {
        "colab": {
          "base_uri": "https://localhost:8080/"
        },
        "id": "i7QbhffnLLQ5",
        "outputId": "660b118d-6bc3-4dcb-a143-fbf64b24de50"
      },
      "execution_count": 25,
      "outputs": [
        {
          "output_type": "stream",
          "name": "stdout",
          "text": [
            "[{'summary_text': 'in mammals, pheromones play an important role in social and innate reproductive behavior within species.\\nin rodents, vomeronasal receptor type  <dig> , which is specifically expressed in the vomer onasal organ, is thought to detect pheramones.\\nwe found that all of the goat and sheep v1r genes have orthologs in their cross-species counterparts among these three ruminant species and that the sequence identity of v 1r orthologous pairs among these ruminants is much higher than that of mouse-rat v1R orthologOUS pairs.\\nthe v1 r gene repertoire differs dramatically between mammalian species, and'}]\n"
          ]
        }
      ]
    },
    {
      "cell_type": "code",
      "source": [
        "df['summary'][10000]"
      ],
      "metadata": {
        "colab": {
          "base_uri": "https://localhost:8080/",
          "height": 122
        },
        "id": "s5BtH7N1vsx8",
        "outputId": "1f39b9fe-25c7-469e-8fc3-178d533afb5c"
      },
      "execution_count": 26,
      "outputs": [
        {
          "output_type": "execute_result",
          "data": {
            "text/plain": [
              "'interestingly, goat male pheromone, which can induce out-of-season ovulation in anestrous females, causes the same pheromone response in sheep, and vice versa, suggesting that there may be mechanisms for detecting \"inter-species\" pheromones among ruminant species.\\nwe found that all of the goat and sheep v1r genes have orthologs in their cross-species counterparts among these three ruminant species and that the sequence identity of v1r orthologous pairs among these ruminants is much higher than that of mouse-rat v1r orthologous pairs.\\nwe isolated  <dig> goat and  <dig> sheep intact v1r genes based on sequence similarity with  <dig> cow v1r genes in the cow genome database.\\nthe fact that ruminant and rodent v1rs have distinct features suggests that ruminant and rodent v1rs have evolved distinct functions.\\nour results suggest that, compared with rodents, the repertoire of orthologous v1r genes is remarkably conserved among the ruminants cow, sheep and goat.\\nfurthermore, all goat v1rs examined thus far are expressed not only in the vomeronasal organ but also in the main olfactory epithelium.\\nfurthermore, all identified goat v1rs are expressed in the vomeronasal organ and the main olfactory epithelium, suggesting that v1r-mediated ligand information can be detected and processed by both the main and accessory olfactory systems.\\nthe v1r gene repertoire differs dramatically between mammalian species, and the presence of species-specific v1r subfamilies in mouse and rat suggests that v1r plays a profound role in species-specific recognition of pheromones.\\nwe predict that these orthologous v1rs can detect the same or closely related chemical compound within each orthologous set/pair.\\n'"
            ],
            "application/vnd.google.colaboratory.intrinsic+json": {
              "type": "string"
            }
          },
          "metadata": {},
          "execution_count": 26
        }
      ]
    }
  ]
}